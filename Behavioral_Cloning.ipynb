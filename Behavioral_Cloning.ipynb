{
  "nbformat": 4,
  "nbformat_minor": 0,
  "metadata": {
    "colab": {
      "name": "Behavioral-Cloning.ipynb",
      "provenance": [],
      "collapsed_sections": [],
      "authorship_tag": "ABX9TyPXRQr0RQQpPjcTEh/UDRv0",
      "include_colab_link": true
    },
    "kernelspec": {
      "name": "python3",
      "display_name": "Python 3"
    }
  },
  "cells": [
    {
      "cell_type": "markdown",
      "metadata": {
        "id": "view-in-github",
        "colab_type": "text"
      },
      "source": [
        "<a href=\"https://colab.research.google.com/github/seanytdawg/track/blob/master/Behavioral_Cloning.ipynb\" target=\"_parent\"><img src=\"https://colab.research.google.com/assets/colab-badge.svg\" alt=\"Open In Colab\"/></a>"
      ]
    },
    {
      "cell_type": "code",
      "metadata": {
        "id": "Zmy8oL4aY-Le",
        "colab_type": "code",
        "colab": {
          "base_uri": "https://localhost:8080/",
          "height": 35
        },
        "outputId": "5a20c473-fad2-42c6-d11f-ed5e31423158"
      },
      "source": [
        "!git clone https://github.com/seanytdawg/track.git"
      ],
      "execution_count": 10,
      "outputs": [
        {
          "output_type": "stream",
          "text": [
            "fatal: destination path 'track' already exists and is not an empty directory.\n"
          ],
          "name": "stdout"
        }
      ]
    },
    {
      "cell_type": "code",
      "metadata": {
        "id": "NVWHsnVYfZmk",
        "colab_type": "code",
        "colab": {
          "base_uri": "https://localhost:8080/",
          "height": 35
        },
        "outputId": "64d50aa3-ced8-476f-b58d-874aa6693e42"
      },
      "source": [
        "!ls track"
      ],
      "execution_count": 11,
      "outputs": [
        {
          "output_type": "stream",
          "text": [
            "driving_log.csv  IMG\n"
          ],
          "name": "stdout"
        }
      ]
    },
    {
      "cell_type": "code",
      "metadata": {
        "id": "eQVWAnyGfchB",
        "colab_type": "code",
        "colab": {}
      },
      "source": [
        ""
      ],
      "execution_count": null,
      "outputs": []
    },
    {
      "cell_type": "code",
      "metadata": {
        "id": "R2p9WDEpdjeJ",
        "colab_type": "code",
        "colab": {}
      },
      "source": [
        "import os\n",
        "\n",
        "import numpy as np\n",
        "\n",
        "import matplotlib.pyplot as plt\n",
        "\n",
        "import keras\n",
        "\n",
        "from keras.models import Sequential\n",
        "\n",
        "from keras.optimizers import Adam\n",
        "\n",
        "from keras.layers import Conv2D, MaxPooling2D, Dropout, Flatten, Dense\n",
        "\n",
        "import cv2\n",
        "\n",
        "import pandas as pd\n",
        "\n",
        "import random\n",
        "\n",
        "import ntpath"
      ],
      "execution_count": 15,
      "outputs": []
    },
    {
      "cell_type": "code",
      "metadata": {
        "id": "u_svLpTwdvaf",
        "colab_type": "code",
        "colab": {
          "base_uri": "https://localhost:8080/",
          "height": 425
        },
        "outputId": "587a3ca3-b947-429d-839a-fff631c5db55"
      },
      "source": [
        "datadir = 'track'\n",
        "columns = ['center', 'left', 'right', 'steering', 'throttle', 'reverse', 'speed']\n",
        "data = pd.read_csv(os.path.join(datadir, \"driving_log.csv\"), names=columns)\n",
        "\n",
        "pd.set_option('display.max_colwidth', -1)\n",
        "\n",
        "data.head()"
      ],
      "execution_count": 14,
      "outputs": [
        {
          "output_type": "stream",
          "text": [
            "/usr/local/lib/python3.6/dist-packages/ipykernel_launcher.py:5: FutureWarning: Passing a negative integer is deprecated in version 1.0 and will not be supported in future version. Instead, use None to not limit the column width.\n",
            "  \"\"\"\n"
          ],
          "name": "stderr"
        },
        {
          "output_type": "execute_result",
          "data": {
            "text/html": [
              "<div>\n",
              "<style scoped>\n",
              "    .dataframe tbody tr th:only-of-type {\n",
              "        vertical-align: middle;\n",
              "    }\n",
              "\n",
              "    .dataframe tbody tr th {\n",
              "        vertical-align: top;\n",
              "    }\n",
              "\n",
              "    .dataframe thead th {\n",
              "        text-align: right;\n",
              "    }\n",
              "</style>\n",
              "<table border=\"1\" class=\"dataframe\">\n",
              "  <thead>\n",
              "    <tr style=\"text-align: right;\">\n",
              "      <th></th>\n",
              "      <th>center</th>\n",
              "      <th>left</th>\n",
              "      <th>right</th>\n",
              "      <th>steering</th>\n",
              "      <th>throttle</th>\n",
              "      <th>reverse</th>\n",
              "      <th>speed</th>\n",
              "    </tr>\n",
              "  </thead>\n",
              "  <tbody>\n",
              "    <tr>\n",
              "      <th>0</th>\n",
              "      <td>/Users/seantarzy/Development/self-driving/first-self-driving-sim/IMG/center_2020_07_08_14_06_04_078.jpg</td>\n",
              "      <td>/Users/seantarzy/Development/self-driving/first-self-driving-sim/IMG/left_2020_07_08_14_06_04_078.jpg</td>\n",
              "      <td>/Users/seantarzy/Development/self-driving/first-self-driving-sim/IMG/right_2020_07_08_14_06_04_078.jpg</td>\n",
              "      <td>0.0</td>\n",
              "      <td>0.0</td>\n",
              "      <td>0.0</td>\n",
              "      <td>0.000079</td>\n",
              "    </tr>\n",
              "    <tr>\n",
              "      <th>1</th>\n",
              "      <td>/Users/seantarzy/Development/self-driving/first-self-driving-sim/IMG/center_2020_07_08_14_06_04_178.jpg</td>\n",
              "      <td>/Users/seantarzy/Development/self-driving/first-self-driving-sim/IMG/left_2020_07_08_14_06_04_178.jpg</td>\n",
              "      <td>/Users/seantarzy/Development/self-driving/first-self-driving-sim/IMG/right_2020_07_08_14_06_04_178.jpg</td>\n",
              "      <td>0.0</td>\n",
              "      <td>0.0</td>\n",
              "      <td>0.0</td>\n",
              "      <td>0.000078</td>\n",
              "    </tr>\n",
              "    <tr>\n",
              "      <th>2</th>\n",
              "      <td>/Users/seantarzy/Development/self-driving/first-self-driving-sim/IMG/center_2020_07_08_14_06_04_295.jpg</td>\n",
              "      <td>/Users/seantarzy/Development/self-driving/first-self-driving-sim/IMG/left_2020_07_08_14_06_04_295.jpg</td>\n",
              "      <td>/Users/seantarzy/Development/self-driving/first-self-driving-sim/IMG/right_2020_07_08_14_06_04_295.jpg</td>\n",
              "      <td>0.0</td>\n",
              "      <td>0.0</td>\n",
              "      <td>0.0</td>\n",
              "      <td>0.000078</td>\n",
              "    </tr>\n",
              "    <tr>\n",
              "      <th>3</th>\n",
              "      <td>/Users/seantarzy/Development/self-driving/first-self-driving-sim/IMG/center_2020_07_08_14_06_04_416.jpg</td>\n",
              "      <td>/Users/seantarzy/Development/self-driving/first-self-driving-sim/IMG/left_2020_07_08_14_06_04_416.jpg</td>\n",
              "      <td>/Users/seantarzy/Development/self-driving/first-self-driving-sim/IMG/right_2020_07_08_14_06_04_416.jpg</td>\n",
              "      <td>0.0</td>\n",
              "      <td>0.0</td>\n",
              "      <td>0.0</td>\n",
              "      <td>0.000080</td>\n",
              "    </tr>\n",
              "    <tr>\n",
              "      <th>4</th>\n",
              "      <td>/Users/seantarzy/Development/self-driving/first-self-driving-sim/IMG/center_2020_07_08_14_06_04_527.jpg</td>\n",
              "      <td>/Users/seantarzy/Development/self-driving/first-self-driving-sim/IMG/left_2020_07_08_14_06_04_527.jpg</td>\n",
              "      <td>/Users/seantarzy/Development/self-driving/first-self-driving-sim/IMG/right_2020_07_08_14_06_04_527.jpg</td>\n",
              "      <td>0.0</td>\n",
              "      <td>0.0</td>\n",
              "      <td>0.0</td>\n",
              "      <td>0.000081</td>\n",
              "    </tr>\n",
              "  </tbody>\n",
              "</table>\n",
              "</div>"
            ],
            "text/plain": [
              "                                                                                                    center  ...     speed\n",
              "0  /Users/seantarzy/Development/self-driving/first-self-driving-sim/IMG/center_2020_07_08_14_06_04_078.jpg  ...  0.000079\n",
              "1  /Users/seantarzy/Development/self-driving/first-self-driving-sim/IMG/center_2020_07_08_14_06_04_178.jpg  ...  0.000078\n",
              "2  /Users/seantarzy/Development/self-driving/first-self-driving-sim/IMG/center_2020_07_08_14_06_04_295.jpg  ...  0.000078\n",
              "3  /Users/seantarzy/Development/self-driving/first-self-driving-sim/IMG/center_2020_07_08_14_06_04_416.jpg  ...  0.000080\n",
              "4  /Users/seantarzy/Development/self-driving/first-self-driving-sim/IMG/center_2020_07_08_14_06_04_527.jpg  ...  0.000081\n",
              "\n",
              "[5 rows x 7 columns]"
            ]
          },
          "metadata": {
            "tags": []
          },
          "execution_count": 14
        }
      ]
    },
    {
      "cell_type": "code",
      "metadata": {
        "id": "OrB_OiSdhJMD",
        "colab_type": "code",
        "colab": {
          "base_uri": "https://localhost:8080/",
          "height": 198
        },
        "outputId": "8642b21d-e3a8-45ba-c0c1-c6173a8c7e9f"
      },
      "source": [
        "def path_leaf(path):\n",
        "  head, tail = ntpath.split(path)\n",
        "  return tail \n",
        "\n",
        "data['center'] = data['center'].apply(path_leaf)\n",
        "data['left'] = data['left'].apply(path_leaf)\n",
        "data['right'] = data['right'].apply(path_leaf)\n",
        "\n",
        "data.head()"
      ],
      "execution_count": 18,
      "outputs": [
        {
          "output_type": "execute_result",
          "data": {
            "text/html": [
              "<div>\n",
              "<style scoped>\n",
              "    .dataframe tbody tr th:only-of-type {\n",
              "        vertical-align: middle;\n",
              "    }\n",
              "\n",
              "    .dataframe tbody tr th {\n",
              "        vertical-align: top;\n",
              "    }\n",
              "\n",
              "    .dataframe thead th {\n",
              "        text-align: right;\n",
              "    }\n",
              "</style>\n",
              "<table border=\"1\" class=\"dataframe\">\n",
              "  <thead>\n",
              "    <tr style=\"text-align: right;\">\n",
              "      <th></th>\n",
              "      <th>center</th>\n",
              "      <th>left</th>\n",
              "      <th>right</th>\n",
              "      <th>steering</th>\n",
              "      <th>throttle</th>\n",
              "      <th>reverse</th>\n",
              "      <th>speed</th>\n",
              "    </tr>\n",
              "  </thead>\n",
              "  <tbody>\n",
              "    <tr>\n",
              "      <th>0</th>\n",
              "      <td>center_2020_07_08_14_06_04_078.jpg</td>\n",
              "      <td>left_2020_07_08_14_06_04_078.jpg</td>\n",
              "      <td>right_2020_07_08_14_06_04_078.jpg</td>\n",
              "      <td>0.0</td>\n",
              "      <td>0.0</td>\n",
              "      <td>0.0</td>\n",
              "      <td>0.000079</td>\n",
              "    </tr>\n",
              "    <tr>\n",
              "      <th>1</th>\n",
              "      <td>center_2020_07_08_14_06_04_178.jpg</td>\n",
              "      <td>left_2020_07_08_14_06_04_178.jpg</td>\n",
              "      <td>right_2020_07_08_14_06_04_178.jpg</td>\n",
              "      <td>0.0</td>\n",
              "      <td>0.0</td>\n",
              "      <td>0.0</td>\n",
              "      <td>0.000078</td>\n",
              "    </tr>\n",
              "    <tr>\n",
              "      <th>2</th>\n",
              "      <td>center_2020_07_08_14_06_04_295.jpg</td>\n",
              "      <td>left_2020_07_08_14_06_04_295.jpg</td>\n",
              "      <td>right_2020_07_08_14_06_04_295.jpg</td>\n",
              "      <td>0.0</td>\n",
              "      <td>0.0</td>\n",
              "      <td>0.0</td>\n",
              "      <td>0.000078</td>\n",
              "    </tr>\n",
              "    <tr>\n",
              "      <th>3</th>\n",
              "      <td>center_2020_07_08_14_06_04_416.jpg</td>\n",
              "      <td>left_2020_07_08_14_06_04_416.jpg</td>\n",
              "      <td>right_2020_07_08_14_06_04_416.jpg</td>\n",
              "      <td>0.0</td>\n",
              "      <td>0.0</td>\n",
              "      <td>0.0</td>\n",
              "      <td>0.000080</td>\n",
              "    </tr>\n",
              "    <tr>\n",
              "      <th>4</th>\n",
              "      <td>center_2020_07_08_14_06_04_527.jpg</td>\n",
              "      <td>left_2020_07_08_14_06_04_527.jpg</td>\n",
              "      <td>right_2020_07_08_14_06_04_527.jpg</td>\n",
              "      <td>0.0</td>\n",
              "      <td>0.0</td>\n",
              "      <td>0.0</td>\n",
              "      <td>0.000081</td>\n",
              "    </tr>\n",
              "  </tbody>\n",
              "</table>\n",
              "</div>"
            ],
            "text/plain": [
              "                               center  ...     speed\n",
              "0  center_2020_07_08_14_06_04_078.jpg  ...  0.000079\n",
              "1  center_2020_07_08_14_06_04_178.jpg  ...  0.000078\n",
              "2  center_2020_07_08_14_06_04_295.jpg  ...  0.000078\n",
              "3  center_2020_07_08_14_06_04_416.jpg  ...  0.000080\n",
              "4  center_2020_07_08_14_06_04_527.jpg  ...  0.000081\n",
              "\n",
              "[5 rows x 7 columns]"
            ]
          },
          "metadata": {
            "tags": []
          },
          "execution_count": 18
        }
      ]
    },
    {
      "cell_type": "code",
      "metadata": {
        "id": "-6vLJsEtiRom",
        "colab_type": "code",
        "colab": {}
      },
      "source": [
        ""
      ],
      "execution_count": null,
      "outputs": []
    }
  ]
}